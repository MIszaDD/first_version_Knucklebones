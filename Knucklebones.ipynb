import random
class gra():
  def __init__(self,gracz1="player1",gracz2 = "player2"):
    self.gracz1 = gracz1
    self.gracz2 = gracz2
    self.g = "F"

    self.kostka1 = 0

    self.p1 = [0,0,0,
               0,0,0,
               0,0,0]

    self.p2 = [0,0,0,
               0,0,0,
               0,0,0]

    self.p =  [0,0,0,
               0,0,0,
               0,0,0]

    self.kolumna = 0
    self.ruch = 0

    self.kk = 0

    self.pkt1 = 1
    self.pkt2 = 1

  @property
  def gracz1(self):
    return self.__gracz1
  @gracz1.setter
  def gracz1(self,value):
    self.__gracz1 = value

  @property
  def gracz2(self):
    return self.__gracz2
  @gracz2.setter
  def gracz2(self,value):
    self.__gracz2 = value


  def start(self):

    def kolejnosc():
      if self.ruch % 2 == 0:
        self.p1 = self.p
      else:
        self.p2 = self.p

      self.ruch += 1

      if self.ruch % 2 == 0:
        self.p = self.p1
        self.g = self.gracz1
      else:
        self.p = self.p2
        self.g = self.gracz2


    def tabela(x):
      for i in range(0, 9, 3):
        napis = ""
        for j in range(0,3):
          napis += f"[{x[i+j]}] "
        print(napis)

    def usuwanie():
      if int(self.kolumna) == 1:
        x = 0
        y = 3
        z = 6
      elif int(self.kolumna) == 2:
        x = 1
        y = 4
        z = 7
      elif int(self.kolumna) == 3:
        x = 2
        y = 5
        z = 8

      if self.p == self.p1:
        if self.p2[x] == self.kostka1:
          self.p2[x] = 0
        if self.p2[y] == self.kostka1:
          self.p2[y] = 0
        if self.p2[z] == self.kostka1:
               self.p2[z] = 0

      if self.p == self.p2:
        if self.p1[x] == self.kostka1:
          self.p1[x] = 0
        if self.p1[y] == self.kostka1:
          self.p1[y] = 0
        if self.p1[z] == self.kostka1:
          self.p1[z] = 0

    def wybor():
      #print(self.kostka1)
      self.kolumna = input("która kolumna: ")
      if int(self.kolumna) == 1:
        x = 0
        y = 3
        z = 6
      elif int(self.kolumna) == 2:
        x = 1
        y = 4
        z = 7
      elif int(self.kolumna) == 3:
        x = 2
        y = 5
        z = 8
      else:
        print(f"podaj 1, 2, 3")
        wybor()

      if self.p[x] == 0:
        self.p[x] = int(self.kostka1)
        usuwanie()
        #self.kk = x
      else:
        if self.p[y] == 0:
          self.p[y] = int(self.kostka1)
          usuwanie()
          #self.kk = y
        else:
          if self.p[z] == 0:
            self.p[z] = int(self.kostka1)
            usuwanie()
            #self.kk = z
          else:
            print(f"kolumna {self.kolumna} jest pełna")
            wybor()

    def spr():
      #i = 0
      for i in range(0,9):
        if self.p[i] == 0:
          granie()
        else:

          for j in range(1,3):
            if j % 2 == 0:
              tabela = self.p2
            else:
              tabela = self.p1

            suma = 0
            for i in range(1,4):
              k = 1
              if i == 1:
                x = 0
                y = 3
                z = 6
              elif i == 2:
                x = 1
                y = 4
                z = 7
              elif i == 3:
                x = 2
                y = 5
                z = 8

              if tabela[x] == tabela[y] or tabela[z] == tabela[x]:
                k += 1
                if tabela[y] == tabela[z]:
                  k += 1
              elif tabela[z] == tabela[x] or tabela[x] == tabela[y]:
                k += 1
                if tabela[y] == tabela[z]:
                  k += 1
              elif tabela[y] == tabela[z]:
                  k += 1

              suma += (tabela[x] + tabela[y] + tabela[z]) * k
            if j % 2 == 0:
              self.pkt2 = suma
            else:
              self.pkt1 = suma

          self.__str__()

    def granie():
      print("===========================================================")
      print(f"Tabela gracza: {self.gracz1}")
      tabela(self.p1)
      print(f"Tabela gracza: {self.gracz2}")
      tabela(self.p2)

      kolejnosc()
      self.kostka1 = random.randint(1, 6)
      print(f"{self.g} wylosował: {self.kostka1}")
      wybor()
      print(f"\n")
      spr()



    granie()
  def __str__(self):
    return f"gracz: {self.__gracz1} zdobył: {self.pkt1}pkt\ngracz: {self.__gracz2} zdobył: {self.pkt2}pkt"



o = gra()
o.start()
print(o)
